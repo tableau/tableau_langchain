{
 "cells": [
  {
   "cell_type": "markdown",
   "id": "1f302499-eb05-4296-8716-950babc0f10e",
   "metadata": {},
   "source": [
    "## Chat with Tableau\n",
    "\n",
    "Tableau's [VizQL Data Service](https://help.tableau.com/current/api/vizql-data-service/en-us/index.html) (aka VDS) provides developers with programmatic access to their Tableau Published Data Sources, allowing them to extend their business semantics for any custom workload or application, including AI Agents. The simple_datasource_qa tool adds VDS to the Langchain framework. This notebook shows you how you can use it to build agents that answer analytical questions grounded on your enterprise semantic models. \n",
    "\n",
    "Follow the [tableau-langchain](https://github.com/Tab-SE/tableau_langchain) project for more tools coming soon!\n"
   ]
  },
  {
   "cell_type": "markdown",
   "id": "4d57b913-819e-4676-9f6e-3afe0a80030e",
   "metadata": {},
   "source": [
    "## Requirements\n",
    "1. python version 3.12.2 or higher\n",
    "2. A Tableau Cloud or Server environment with at least 1 published data source\n",
    "\n",
    "Get started by installing and/or importing the required packages"
   ]
  },
  {
   "cell_type": "code",
   "execution_count": null,
   "id": "9b178e95-ffae-4f04-ad77-1fdc2ab05edf",
   "metadata": {},
   "outputs": [],
   "source": [
    "%pip install langchain-openai"
   ]
  },
  {
   "cell_type": "code",
   "execution_count": null,
   "id": "8605e87a-2253-4c89-992a-ecdbec955ef6",
   "metadata": {},
   "outputs": [],
   "source": [
    "%pip install langgraph"
   ]
  },
  {
   "cell_type": "code",
   "execution_count": null,
   "id": "c13dca76",
   "metadata": {},
   "outputs": [],
   "source": [
    "%pip install langchain-tableau --upgrade"
   ]
  },
  {
   "cell_type": "markdown",
   "id": "bbaa05f4",
   "metadata": {},
   "source": [
    "Note you may need to restart your kernal to use updated packages"
   ]
  },
  {
   "cell_type": "markdown",
   "id": "e0b74b8f-67a3-40f4-af32-498057e427b9",
   "metadata": {},
   "source": [
    "## Overview\n",
    "The initialize_simple_datasource_qa initializes the Langgraph tool called [simple_datasource_qa](https://github.com/Tab-SE/tableau_langchain/blob/3ff9047414479cd55d797c18a78f834d57860761/pip_package/langchain_tableau/tools/simple_datasource_qa.py#L101), which can be used for analytical questions and answers on a Tableau Data Source.\n",
    "\n",
    "This initializer function:\n",
    "1. Authenticates to Tableau using Tableau's connected-app framework for JWT-based authentication. All the required variables must defined at runtime or as environment variables.\n",
    "2. Asynchronously queries for the field metadata of the target datasource specified in the datasource_luid variable\n",
    "3. Grounds on the metadata of the target datasource to transform natural language questions into the json-formatted query payload required to make VDS /query-datasource requests \n",
    "4. Executes a POST request to VDS\n",
    "5. Formats and returns the results in a structured response"
   ]
  },
  {
   "cell_type": "code",
   "execution_count": null,
   "id": "310d21b3",
   "metadata": {},
   "outputs": [],
   "source": [
    "#langchain and langgraph package imports\n",
    "from langchain_openai import ChatOpenAI\n",
    "from langchain.agents import initialize_agent, AgentType\n",
    "from langchain_core.messages import AIMessage, HumanMessage, SystemMessage\n",
    "from langgraph.prebuilt import create_react_agent\n",
    "\n",
    "#langchain_tableau imports\n",
    "#from langchain_tableau.tools.simple_datasource_qa import initialize_simple_datasource_qa\n",
    "from experimental.tools.simple_datasource_qa import initialize_simple_datasource_qa"
   ]
  },
  {
   "cell_type": "markdown",
   "id": "596d6718-f2e1-44bb-b614-65447862661c",
   "metadata": {},
   "source": [
    "## Authentication Variables\n",
    "You can declare your environment variables explicitly, as shown in several cases in this cookbook. However, ff these parameters are not provided, the simple_datasource_qa tool will attempt to automatically read them from environment variables.\n",
    "\n",
    "For the Data Source that you choose, make sure you've updated the VizqlDataApiAccess permission in Tableau to allow the VDS API to access that Data Source via REST. More info [here](https://help.tableau.com/current/server/en-us/permissions_capabilities.htm#data-sources\n",
    "). "
   ]
  },
  {
   "cell_type": "code",
   "execution_count": null,
   "id": "ccfb4159-34ac-4816-a8f0-795c5442c0b2",
   "metadata": {},
   "outputs": [],
   "source": [
    "import os\n",
    "from dotenv import load_dotenv\n",
    "load_dotenv()\n",
    "\n",
    "tableau_server = os.getenv('TABLEAU_DOMAIN') #replace with your Tableau server name\n",
    "tableau_site = os.getenv('TABLEAU_SITE') #replace with your Tableau site\n",
    "tableau_jwt_client_id = os.getenv('TABLEAU_JWT_CLIENT_ID') #a JWT client ID (obtained through Tableau's admin UI)\n",
    "tableau_jwt_secret_id = os.getenv('TABLEAU_JWT_SECRET_ID') #a JWT secret ID (obtained through Tableau's admin UI)\n",
    "tableau_jwt_secret = os.getenv('TABLEAU_JWT_SECRET') #a JWT secret ID (obtained through Tableau's admin UI)\n",
    "tableau_api_version = '3.21' #the current Tableau REST API Version\n",
    "tableau_user = os.getenv('TABLEAU_USER') #replace with the username querying the target Tableau Data Source\n",
    "\n",
    "# For this cookbook we are connecting to the Superstore dataset that comes by default with every Tableau server\n",
    "datasource_luid = os.getenv('DATASOURCE_LUID') #the target data source for this Tool\n",
    "\n",
    "# Add variables to control LLM models for the Agent and Tools\n",
    "os.getenv(\"OPENAI_API_KEY\") #set an your model API key as an environment variable\n",
    "tooling_llm_model = os.getenv(\"TOOLING_MODEL\") #set the LLM model for the Agent\n",
    "print(f\"Tooling LLM Model: {tooling_llm_model}\")"
   ]
  },
  {
   "cell_type": "markdown",
   "id": "39ae3703-d271-44aa-8f3b-05ddadacc59d",
   "metadata": {},
   "source": [
    "## Langchain Example\n",
    "First, we'll initlialize the LLM of our choice. Next, we initialize our tool for chatting with tableau data sources and store it in a variable called analyze_datasource. Finally, we define an agent using Langchain legacy initialize_agent constructor and invoke it with a query related to the target data source. "
   ]
  },
  {
   "cell_type": "code",
   "execution_count": null,
   "id": "35376fe7-09ae-4a78-ab9b-ec2e652ffbca",
   "metadata": {},
   "outputs": [],
   "source": [
    "from IPython.display import display, Markdown\n",
    "\n",
    "# Initialize an LLM \n",
    "llm = ChatOpenAI(model='o4-mini', temperature=0)\n",
    "\n",
    "# Initalize simple_datasource_qa for querying Tableau Datasources through VDS\n",
    "analyze_datasource = initialize_simple_datasource_qa(\n",
    "    domain=tableau_server,\n",
    "    site=tableau_site,\n",
    "    jwt_client_id=tableau_jwt_client_id,\n",
    "    jwt_secret_id=tableau_jwt_secret_id,\n",
    "    jwt_secret=tableau_jwt_secret,\n",
    "    tableau_api_version=tableau_api_version,\n",
    "    tableau_user=tableau_user,\n",
    "    datasource_luid=datasource_luid,\n",
    "    tooling_llm_model=tooling_llm_model)\n",
    "\n",
    "# load the List of Tools to be used by the Agent. In this case we will just load our data source Q&A tool.\n",
    "tools = [ analyze_datasource ]\n",
    "\n",
    "tableauHeadlessAgent = initialize_agent(\n",
    "    tools,\n",
    "    llm,\n",
    "    agent=AgentType.OPENAI_FUNCTIONS, # Use OpenAI's function calling\n",
    "    verbose = False)\n",
    "\n",
    "# Run the agent\n",
    "response = tableauHeadlessAgent.invoke(\"which school are available in the dataset?\")\n",
    "response\n",
    "#display(Markdown(response['output'])) #display a nicely formatted answer for successful generations"
   ]
  },
  {
   "cell_type": "code",
   "execution_count": null,
   "id": "2839c4fd",
   "metadata": {},
   "outputs": [],
   "source": [
    "def env_vars_simple_datasource_qa(\n",
    "    domain=None,\n",
    "    site=None,\n",
    "    jwt_client_id=None,\n",
    "    jwt_secret_id=None,\n",
    "    jwt_secret=None,\n",
    "    tableau_api_version=None,\n",
    "    tableau_user=None,\n",
    "    datasource_luid=None,\n",
    "    model_provider=None,\n",
    "    tooling_llm_model=None\n",
    "):\n",
    "    \"\"\"\n",
    "    Retrieves Tableau configuration from environment variables if not provided as arguments.\n",
    "\n",
    "    Args:\n",
    "        domain (str, optional): Tableau domain\n",
    "        site (str, optional): Tableau site\n",
    "        jwt_client_id (str, optional): JWT client ID\n",
    "        jwt_secret_id (str, optional): JWT secret ID\n",
    "        jwt_secret (str, optional): JWT secret\n",
    "        tableau_api_version (str, optional): Tableau API version\n",
    "        tableau_user (str, optional): Tableau user\n",
    "        datasource_luid (str, optional): Datasource LUID\n",
    "        tooling_llm_model (str, optional): Tooling LLM model\n",
    "\n",
    "    Returns:\n",
    "        dict: A dictionary containing all the configuration values\n",
    "    \"\"\"\n",
    "    # Load environment variables before accessing them\n",
    "    load_dotenv()\n",
    "\n",
    "    config = {\n",
    "        'domain': domain if isinstance(domain, str) and domain else os.environ['TABLEAU_DOMAIN'],\n",
    "        'site': site or os.environ['TABLEAU_SITE'],\n",
    "        'jwt_client_id': jwt_client_id or os.environ['TABLEAU_JWT_CLIENT_ID'],\n",
    "        'jwt_secret_id': jwt_secret_id or os.environ['TABLEAU_JWT_SECRET_ID'],\n",
    "        'jwt_secret': jwt_secret or os.environ['TABLEAU_JWT_SECRET'],\n",
    "        'tableau_api_version': tableau_api_version or os.environ['TABLEAU_API_VERSION'],\n",
    "        'tableau_user': tableau_user or os.environ['TABLEAU_USER'],\n",
    "        'datasource_luid': datasource_luid or os.environ['DATASOURCE_LUID'],\n",
    "        'model_provider': model_provider or os.environ['MODEL_PROVIDER'],\n",
    "        'tooling_llm_model': tooling_llm_model or os.environ['TOOLING_MODEL']\n",
    "    }\n",
    "\n",
    "    return config"
   ]
  },
  {
   "cell_type": "markdown",
   "id": "0ac5daa0-4336-48d0-9c26-20bf2c252bad",
   "metadata": {},
   "source": [
    "## Langgraph Example\n",
    "This example uses the updated langgraph agent constructor class to achieve the same outcome. "
   ]
  },
  {
   "cell_type": "code",
   "execution_count": null,
   "id": "06a1d3f7-79a8-452e-b37e-9070d15445b0",
   "metadata": {},
   "outputs": [],
   "source": [
    "from IPython.display import display, Markdown\n",
    "\n",
    "# Initalize simple_datasource_qa for querying Tableau Datasources through VDS\n",
    "analyze_datasource = initialize_simple_datasource_qa(\n",
    "    domain=tableau_server,\n",
    "    site=tableau_site,\n",
    "    jwt_client_id=tableau_jwt_client_id,\n",
    "    jwt_secret_id=tableau_jwt_secret_id,\n",
    "    jwt_secret=tableau_jwt_secret,\n",
    "    tableau_api_version=tableau_api_version,\n",
    "    tableau_user=tableau_user,\n",
    "    datasource_luid=datasource_luid,\n",
    "    tooling_llm_model=tooling_llm_model)\n",
    "\n",
    "tools = [analyze_datasource]\n",
    "\n",
    "model = ChatOpenAI(model='gpt-4o', temperature=0)\n",
    "\n",
    "tableauAgent = create_react_agent(model, tools)\n",
    "\n",
    "# Run the agent\n",
    "messages = tableauAgent.invoke({\"messages\": [(\"human\",'Rank schools by their average score in Writing where the score is greater than 499, showing their charter numbers.')]})\n",
    "messages\n",
    "#display(Markdown(messages['messages'][4].content)) #display a nicely formatted answer for successful generations"
   ]
  },
  {
   "cell_type": "code",
   "execution_count": null,
   "id": "33d01ab9",
   "metadata": {},
   "outputs": [],
   "source": [
    "display(Markdown(messages['messages'][2].content)) #display a nicely formatted answer for successful generations"
   ]
  },
  {
   "cell_type": "code",
   "execution_count": null,
   "id": "55ffe130",
   "metadata": {},
   "outputs": [],
   "source": []
  }
 ],
 "metadata": {
  "kernelspec": {
   "display_name": "Python 3",
   "language": "python",
   "name": "python3"
  },
  "language_info": {
   "codemirror_mode": {
    "name": "ipython",
    "version": 3
   },
   "file_extension": ".py",
   "mimetype": "text/x-python",
   "name": "python",
   "nbconvert_exporter": "python",
   "pygments_lexer": "ipython3",
   "version": "3.12.2"
  }
 },
 "nbformat": 4,
 "nbformat_minor": 5
}
